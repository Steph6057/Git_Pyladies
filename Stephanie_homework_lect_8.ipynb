{
  "nbformat": 4,
  "nbformat_minor": 0,
  "metadata": {
    "colab": {
      "name": "Stephanie homework lect 8",
      "provenance": [],
      "collapsed_sections": [],
      "authorship_tag": "ABX9TyPVYfDjrv1j+WHQTnv2rMsb",
      "include_colab_link": true
    },
    "kernelspec": {
      "name": "python3",
      "display_name": "Python 3"
    },
    "language_info": {
      "name": "python"
    }
  },
  "cells": [
    {
      "cell_type": "markdown",
      "metadata": {
        "id": "view-in-github",
        "colab_type": "text"
      },
      "source": [
        "<a href=\"https://colab.research.google.com/github/Steph6057/Git_Pyladies/blob/main/Stephanie_homework_lect_8.ipynb\" target=\"_parent\"><img src=\"https://colab.research.google.com/assets/colab-badge.svg\" alt=\"Open In Colab\"/></a>"
      ]
    },
    {
      "cell_type": "markdown",
      "metadata": {
        "id": "yJk0s9v6B2VX"
      },
      "source": [
        "# 1.Write a function that creates and returns a dictionary for the specified number n, where the keys will be numbers from 1 to n and the values will be respective numbers n2-squared"
      ]
    },
    {
      "cell_type": "code",
      "source": [
        "from time import sleep\n",
        "\n",
        "def dic1():\n",
        "    '''\n",
        "\n",
        "    dictionary of numbers from 1 to n where values will be respective numbers n(squared)\n",
        "    :return: the specified number n\n",
        "    '''\n",
        "\n",
        "    n = []\n",
        "\n",
        "    for keys in n: # range(n):\n",
        "\n",
        "        num = {\n",
        "            n: keys,\n",
        "        }\n",
        "\n",
        "    return n\n"
      ],
      "metadata": {
        "id": "zC4xkA15uYGK"
      },
      "execution_count": null,
      "outputs": []
    },
    {
      "cell_type": "markdown",
      "metadata": {
        "id": "v5oPziM8EyPz"
      },
      "source": [
        "# 2. Write a function that gets a dictionary as an argument and returns the sum of all keys and sum of all values in the dictionary received.Use as input the dictionary created in the previous exercise for testing."
      ]
    },
    {
      "cell_type": "code",
      "source": [
        "def dic2(): # Taking dictionary as an argument\n",
        "    '''\n",
        "\n",
        "    dependent on the first function..\n",
        "    :return:\n",
        "    '''\n",
        "    pass"
      ],
      "metadata": {
        "id": "tE3FQtUBuxB5"
      },
      "execution_count": null,
      "outputs": []
    },
    {
      "cell_type": "markdown",
      "metadata": {
        "id": "NDCh-w6XFPj5"
      },
      "source": [
        "# 3.Write a function that takes a string as input and returns a dictionary in which the keys will be individual characters from the specified strings, and as values, the number of occurences of the specific character in the string.If this feels too hard,try to break this task into many smaller steps and print all intermediate results."
      ]
    },
    {
      "cell_type": "code",
      "source": [
        "from time import sleep\n",
        "\n",
        "def dic3():\n",
        "    '''\n",
        "\n",
        "    taking string as input\n",
        "    :return: individual characters of the string\n",
        "    :returns: number of occurrences of the specific character\n",
        "    '''\n",
        "\n",
        "    threat_db = {\n",
        "        \"Fire\": \"Absence of fire extinguishers\",\n",
        "        \"Virus\": \"Lack of updated anti-virus\",\n",
        "        \"Worm\": \"Luck os strong firewall\",\n",
        "        \"Thief\": \"Absence of security\",\n",
        "        \"Dust\": \"Absence of air cleaners\"\n",
        "\n",
        "    }\n",
        "    print(\"Running the third function\"\n",
        "          \"###############\\n\"\n",
        "          \"COMPUTER THREATS\\n\"\n",
        "          \"################\\n\")\n",
        "    for keys in threat_db.keys():\n",
        "\n",
        "        print(keys, '\\n') # prints the dictionary keys\n",
        "\n",
        "    str = input(\"Input string from above choices >_ \").title() # converting input string to Tittle format\n",
        "    sleep(1)\n",
        "\n",
        "    if str in threat_db:\n",
        "        print(threat_db[str].title() + \".\\n\")\n",
        "        #print(threat_db.items())\n",
        "\n",
        "    sleep(1)\n",
        "    dic4()\n"
      ],
      "metadata": {
        "id": "rgk-E7sbtloB"
      },
      "execution_count": null,
      "outputs": []
    },
    {
      "cell_type": "markdown",
      "metadata": {
        "id": "nmsPo0RxGBLH"
      },
      "source": [
        "# 4.Write a function that lists(prints)the content of the dictionary(the keys and their associated values)on individual lines-remember the print lessons from the beginning.\n"
      ]
    },
    {
      "cell_type": "markdown",
      "metadata": {
        "id": "sR7V6A0TGb2L"
      },
      "source": [
        ""
      ]
    },
    {
      "cell_type": "code",
      "source": [
        "# dic3()\n",
        "\n",
        "from time import sleep\n",
        "\n",
        "def dic4():\n",
        "    '''\n",
        "    printing the contents of the dictionary is covered in the dic3 function.\n",
        "    :return:\n",
        "    '''\n",
        "\n",
        "    print('Running the fourth function')\n",
        "    threat_db = {\n",
        "        \"Fire\": \"Absence of fire extinguishers\",\n",
        "        \"Virus\": \"Lack of updated anti-virus\",\n",
        "        \"Worm\": \"Luck os strong firewall\",\n",
        "        \"Thief\": \"Absence of security\",\n",
        "        \"Dust\": \"Absence of air cleaners\"\n",
        "\n",
        "    }\n",
        "\n",
        "    for keys in threat_db.keys():\n",
        "        print(keys, \", \", threat_db[keys], '\\n')\n",
        "\n",
        "\n",
        "if __name__ == \"__main__\":\n",
        "    dic3()"
      ],
      "metadata": {
        "colab": {
          "base_uri": "https://localhost:8080/"
        },
        "id": "m0D_3ikdtESZ",
        "outputId": "b96af8b8-ff93-48e8-ddf1-33d9bd24f3c1"
      },
      "execution_count": null,
      "outputs": [
        {
          "output_type": "stream",
          "name": "stdout",
          "text": [
            "Running the third function###############\n",
            "COMPUTER THREATS\n",
            "################\n",
            "\n",
            "Fire \n",
            "\n",
            "Virus \n",
            "\n",
            "Worm \n",
            "\n",
            "Thief \n",
            "\n",
            "Dust \n",
            "\n",
            "Input string from above choices >_ virus\n",
            "Lack Of Updated Anti-Virus.\n",
            "\n",
            "Running the fourth function\n",
            "Fire ,  Absence of fire extinguishers \n",
            "\n",
            "Virus ,  Lack of updated anti-virus \n",
            "\n",
            "Worm ,  Luck os strong firewall \n",
            "\n",
            "Thief ,  Absence of security \n",
            "\n",
            "Dust ,  Absence of air cleaners \n",
            "\n"
          ]
        }
      ]
    }
  ]
}