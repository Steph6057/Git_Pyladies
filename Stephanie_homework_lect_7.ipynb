{
  "nbformat": 4,
  "nbformat_minor": 0,
  "metadata": {
    "colab": {
      "name": "Stephanie homework lect 7",
      "provenance": [],
      "collapsed_sections": [],
      "authorship_tag": "ABX9TyNJBKmACLwVShiICbqyoy7n",
      "include_colab_link": true
    },
    "kernelspec": {
      "name": "python3",
      "display_name": "Python 3"
    },
    "language_info": {
      "name": "python"
    }
  },
  "cells": [
    {
      "cell_type": "markdown",
      "metadata": {
        "id": "view-in-github",
        "colab_type": "text"
      },
      "source": [
        "<a href=\"https://colab.research.google.com/github/Steph6057/Git_Pyladies/blob/main/Stephanie_homework_lect_7.ipynb\" target=\"_parent\"><img src=\"https://colab.research.google.com/assets/colab-badge.svg\" alt=\"Open In Colab\"/></a>"
      ]
    },
    {
      "cell_type": "markdown",
      "metadata": {
        "id": "-kqxEIdA6EAu"
      },
      "source": [
        "# 1. Make a lists of pets. You will need it in later exercises. Known pets are: 'dog', 'cat', 'rabbit', 'snake'"
      ]
    },
    {
      "cell_type": "code",
      "metadata": {
        "colab": {
          "base_uri": "https://localhost:8080/"
        },
        "id": "HnDkvRoCAihp",
        "outputId": "dce2ff0c-377d-43aa-f380-7178584bfebc"
      },
      "source": [
        "pets = ['dog', 'cat', 'rabbit', 'snake']\n",
        "print(pets)"
      ],
      "execution_count": null,
      "outputs": [
        {
          "output_type": "stream",
          "name": "stdout",
          "text": [
            "['dog', 'cat', 'rabbit', 'snake']\n"
          ]
        }
      ]
    },
    {
      "cell_type": "markdown",
      "metadata": {
        "id": "JomhvlDp6e_k"
      },
      "source": [
        "# 2. Write a function that returns pets(list given as the argument)that are shorter than 5 letters."
      ]
    },
    {
      "cell_type": "code",
      "source": [
        "def shorter_than_5(pets):\n",
        "  valid = []\n",
        "  for pet in pets:\n",
        "    if len(pet) < 5:\n",
        "      valid.append(pet)\n",
        "    return valid\n",
        "\n"
      ],
      "metadata": {
        "id": "Dlr3WYYUDkBp"
      },
      "execution_count": null,
      "outputs": []
    },
    {
      "cell_type": "markdown",
      "metadata": {
        "id": "msJXijxU68gX"
      },
      "source": [
        "# 3. Write a function that returns pets(list given as the argument)that begin with 'd'."
      ]
    },
    {
      "cell_type": "code",
      "metadata": {
        "colab": {
          "base_uri": "https://localhost:8080/"
        },
        "id": "ZErdmYTFB55A",
        "outputId": "834d579f-cdd4-4e87-8953-875322d42fee"
      },
      "source": [
        "pets = ['dog', 'cat', 'rabbit', 'snake']\n",
        "check = 'd' \n",
        "print(\"The original list : \" + str(pets))\n",
        "res = [idx for idx in pets if idx[0].lower() == check.lower()]\n",
        "print(\"the list that begin with 'd' : \" + str(res))"
      ],
      "execution_count": null,
      "outputs": [
        {
          "output_type": "stream",
          "name": "stdout",
          "text": [
            "The original list : ['dog', 'cat', 'rabbit', 'snake']\n",
            "the list that begin with 'd' : ['dog']\n"
          ]
        }
      ]
    },
    {
      "cell_type": "markdown",
      "metadata": {
        "id": "r12264yi7NGy"
      },
      "source": [
        "# 4. Write a function that gets a word and detects if its in the pet list. \"Detects\" means that the function returns True or False."
      ]
    },
    {
      "cell_type": "code",
      "source": [
        "def find_word(pets):\n",
        "  \n",
        "  pets = ['dog', 'cat', 'rabbit', 'snake']\n",
        "  n = 'hare'\n",
        "  if not pets:\n",
        "    return hare\n",
        "  elif pets['hare'] == n:\n",
        "    return True\n",
        "\n",
        "  elif find_word(pets['hare']):\n",
        "    return True\n",
        "\n",
        "  else:\n",
        "    return False\n",
        "\n",
        "print(find_word(pets))\n"
      ],
      "metadata": {
        "colab": {
          "base_uri": "https://localhost:8080/",
          "height": 200
        },
        "id": "g-Rddp3sk4Fy",
        "outputId": "bb47ca32-20ac-4037-d11d-a98d9b46ef28"
      },
      "execution_count": null,
      "outputs": [
        {
          "output_type": "error",
          "ename": "NameError",
          "evalue": "ignored",
          "traceback": [
            "\u001b[0;31m---------------------------------------------------------------------------\u001b[0m",
            "\u001b[0;31mNameError\u001b[0m                                 Traceback (most recent call last)",
            "\u001b[0;32m<ipython-input-7-2aba8a37c74c>\u001b[0m in \u001b[0;36m<module>\u001b[0;34m()\u001b[0m\n\u001b[1;32m     14\u001b[0m     \u001b[0;32mreturn\u001b[0m \u001b[0;32mFalse\u001b[0m\u001b[0;34m\u001b[0m\u001b[0;34m\u001b[0m\u001b[0m\n\u001b[1;32m     15\u001b[0m \u001b[0;34m\u001b[0m\u001b[0m\n\u001b[0;32m---> 16\u001b[0;31m \u001b[0mprint\u001b[0m\u001b[0;34m(\u001b[0m\u001b[0mfind_word\u001b[0m\u001b[0;34m(\u001b[0m\u001b[0mpets\u001b[0m\u001b[0;34m)\u001b[0m\u001b[0;34m)\u001b[0m\u001b[0;34m\u001b[0m\u001b[0;34m\u001b[0m\u001b[0m\n\u001b[0m",
            "\u001b[0;31mNameError\u001b[0m: name 'pets' is not defined"
          ]
        }
      ]
    },
    {
      "cell_type": "markdown",
      "metadata": {
        "id": "h1wsYuFv8sxf"
      },
      "source": [
        "# 5. Write a function thats get two lists of animals and returns three lists:\n",
        "# a)the animals that are on both lists(common ones).\n",
        "# b)animals which are only in the first list,\n",
        "# c)animals that are only in the second list"
      ]
    },
    {
      "cell_type": "markdown",
      "metadata": {
        "id": "p9hTYNMD9xG2"
      },
      "source": [
        "# 6. write a program that sorts the list of pets by alphabet."
      ]
    },
    {
      "cell_type": "code",
      "metadata": {
        "colab": {
          "base_uri": "https://localhost:8080/"
        },
        "id": "1kHCQVWUVugx",
        "outputId": "7cbafd6f-a3f7-43f8-f4cc-52f8a0977d1e"
      },
      "source": [
        "pets = ['dog', 'cat', 'rabbit', 'snake']\n",
        "pets.sort()\n",
        "print(pets)\n"
      ],
      "execution_count": null,
      "outputs": [
        {
          "output_type": "stream",
          "name": "stdout",
          "text": [
            "['cat', 'dog', 'rabbit', 'snake']\n"
          ]
        }
      ]
    },
    {
      "cell_type": "markdown",
      "metadata": {
        "id": "sJC5m6wT9_D3"
      },
      "source": [
        "# 7. Write a function that sorts the animals alphabetically, but ignores the first letter.\n",
        "# Returns['rabbit', 'cat', 'snake', 'dog']"
      ]
    },
    {
      "cell_type": "code",
      "metadata": {
        "colab": {
          "base_uri": "https://localhost:8080/",
          "height": 235
        },
        "id": "pmyfbEr5PO16",
        "outputId": "4f248d53-6319-425f-f489-03cb0988708e"
      },
      "source": [
        "pets = ['dog', 'cat', 'rabbit', 'snake']\n",
        "uppered_pets = []\n",
        "\n",
        "for pet in pets:\n",
        "  pet_ = pet.upper()\n",
        "  uppered_pets.append(_pet)\n",
        "\n",
        "print(uppered_pets)"
      ],
      "execution_count": null,
      "outputs": [
        {
          "output_type": "error",
          "ename": "NameError",
          "evalue": "ignored",
          "traceback": [
            "\u001b[0;31m---------------------------------------------------------------------------\u001b[0m",
            "\u001b[0;31mNameError\u001b[0m                                 Traceback (most recent call last)",
            "\u001b[0;32m<ipython-input-7-ed4a85295290>\u001b[0m in \u001b[0;36m<module>\u001b[0;34m()\u001b[0m\n\u001b[1;32m      4\u001b[0m \u001b[0;32mfor\u001b[0m \u001b[0mpet\u001b[0m \u001b[0;32min\u001b[0m \u001b[0mpets\u001b[0m\u001b[0;34m:\u001b[0m\u001b[0;34m\u001b[0m\u001b[0;34m\u001b[0m\u001b[0m\n\u001b[1;32m      5\u001b[0m   \u001b[0mpet_\u001b[0m \u001b[0;34m=\u001b[0m \u001b[0mpet\u001b[0m\u001b[0;34m.\u001b[0m\u001b[0mupper\u001b[0m\u001b[0;34m(\u001b[0m\u001b[0;34m)\u001b[0m\u001b[0;34m\u001b[0m\u001b[0;34m\u001b[0m\u001b[0m\n\u001b[0;32m----> 6\u001b[0;31m   \u001b[0muppered_pets\u001b[0m\u001b[0;34m.\u001b[0m\u001b[0mappend\u001b[0m\u001b[0;34m(\u001b[0m\u001b[0m_pet\u001b[0m\u001b[0;34m)\u001b[0m\u001b[0;34m\u001b[0m\u001b[0;34m\u001b[0m\u001b[0m\n\u001b[0m\u001b[1;32m      7\u001b[0m \u001b[0;34m\u001b[0m\u001b[0m\n\u001b[1;32m      8\u001b[0m \u001b[0mprint\u001b[0m\u001b[0;34m(\u001b[0m\u001b[0muppered_pets\u001b[0m\u001b[0;34m)\u001b[0m\u001b[0;34m\u001b[0m\u001b[0;34m\u001b[0m\u001b[0m\n",
            "\u001b[0;31mNameError\u001b[0m: name '_pet' is not defined"
          ]
        }
      ]
    },
    {
      "cell_type": "markdown",
      "metadata": {
        "id": "X_pCtJxx-n4O"
      },
      "source": [
        "# 8. Write a function that converts the Roman numerals to Arab numbers(integers)"
      ]
    },
    {
      "cell_type": "code",
      "source": [
        "def from_roman(num):\n",
        "    roman_numerals = {'I':1, 'V':5, 'X':10, 'L':50, 'C':100, 'D':500, 'M':1000}\n",
        "    result = 0\n",
        "    for i,c in enumerate(num):\n",
        "        if (i+1) == len(num) or roman_numerals[c] >= roman_numerals[num[i+1]]:\n",
        "            result += roman_numerals[c]\n",
        "        else:\n",
        "            result -= roman_numerals[c]\n",
        "    return result\n",
        "    "
      ],
      "metadata": {
        "id": "Gx3T0KZq1kel"
      },
      "execution_count": null,
      "outputs": []
    },
    {
      "cell_type": "markdown",
      "metadata": {
        "id": "ED_bs0_7_Isw"
      },
      "source": [
        "# 9. Can a list contain(reference to) itself? Try to create a \"list\" with which you can do the following operation:"
      ]
    },
    {
      "cell_type": "code",
      "metadata": {
        "id": "TaAA_0wN_qIy"
      },
      "source": [
        "Crazy_list[5][5][5][5][5][5][5][5][5][5][5][5][5][5][5][5][5][5][0]==5\n"
      ],
      "execution_count": null,
      "outputs": []
    },
    {
      "cell_type": "code",
      "metadata": {
        "id": "NMg7qnhTAQ7z",
        "colab": {
          "base_uri": "https://localhost:8080/"
        },
        "outputId": "6b1f7985-676d-4e7d-ebf8-02dc131efd82"
      },
      "source": [
        "crazy_list = [5,0,0,0,0,0]\n",
        "crazy_list[5] = crazy_list\n",
        "#crazy_list[5][5]\n",
        "crazy_list[5][5][5][5][5][5][5][5][5][5][5][5][5][5][5][5][5][0]==5\n"
      ],
      "execution_count": null,
      "outputs": [
        {
          "output_type": "execute_result",
          "data": {
            "text/plain": [
              "True"
            ]
          },
          "metadata": {},
          "execution_count": 4
        }
      ]
    }
  ]
}