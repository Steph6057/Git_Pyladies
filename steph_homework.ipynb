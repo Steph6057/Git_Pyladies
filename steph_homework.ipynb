{
  "nbformat": 4,
  "nbformat_minor": 0,
  "metadata": {
    "colab": {
      "name": "steph homework",
      "provenance": [],
      "collapsed_sections": [],
      "include_colab_link": true
    },
    "kernelspec": {
      "name": "python3",
      "display_name": "Python 3"
    },
    "language_info": {
      "name": "python"
    }
  },
  "cells": [
    {
      "cell_type": "markdown",
      "metadata": {
        "id": "view-in-github",
        "colab_type": "text"
      },
      "source": [
        "<a href=\"https://colab.research.google.com/github/Steph6057/Git_Pyladies/blob/main/steph_homework.ipynb\" target=\"_parent\"><img src=\"https://colab.research.google.com/assets/colab-badge.svg\" alt=\"Open In Colab\"/></a>"
      ]
    },
    {
      "cell_type": "code",
      "metadata": {
        "id": "6yScEnbtVKU2"
      },
      "source": [
        ""
      ],
      "execution_count": null,
      "outputs": []
    },
    {
      "cell_type": "markdown",
      "metadata": {
        "id": "qES8f_EUVTlG"
      },
      "source": [
        "# python version 3.9.7"
      ]
    },
    {
      "cell_type": "code",
      "metadata": {
        "id": "oSOwqPPwVqA4"
      },
      "source": [
        "# what is the type of error that occurs when"
      ],
      "execution_count": null,
      "outputs": []
    },
    {
      "cell_type": "code",
      "metadata": {
        "id": "FjsPL3IJWKs8"
      },
      "source": [
        ""
      ],
      "execution_count": null,
      "outputs": []
    },
    {
      "cell_type": "code",
      "metadata": {
        "colab": {
          "base_uri": "https://localhost:8080/",
          "height": 129
        },
        "id": "nsHq-ERrWPhV",
        "outputId": "956ba589-4f4a-40dc-f8fa-6a68583ab89f"
      },
      "source": [
        "print('hello' world)"
      ],
      "execution_count": null,
      "outputs": [
        {
          "output_type": "error",
          "ename": "SyntaxError",
          "evalue": "ignored",
          "traceback": [
            "\u001b[0;36m  File \u001b[0;32m\"<ipython-input-3-dd24bf4673cd>\"\u001b[0;36m, line \u001b[0;32m1\u001b[0m\n\u001b[0;31m    print('hello' world)\u001b[0m\n\u001b[0m                      ^\u001b[0m\n\u001b[0;31mSyntaxError\u001b[0m\u001b[0;31m:\u001b[0m invalid syntax\n"
          ]
        }
      ]
    },
    {
      "cell_type": "code",
      "metadata": {
        "colab": {
          "base_uri": "https://localhost:8080/",
          "height": 129
        },
        "id": "fMBGPjj_Wq0q",
        "outputId": "240c0cf0-8028-46a1-f5b8-07958bff7c38"
      },
      "source": [
        "print('side'- 1o)"
      ],
      "execution_count": null,
      "outputs": [
        {
          "output_type": "error",
          "ename": "SyntaxError",
          "evalue": "ignored",
          "traceback": [
            "\u001b[0;36m  File \u001b[0;32m\"<ipython-input-5-d4ac174a5b12>\"\u001b[0;36m, line \u001b[0;32m1\u001b[0m\n\u001b[0;31m    print('side'- 1o)\u001b[0m\n\u001b[0m                   ^\u001b[0m\n\u001b[0;31mSyntaxError\u001b[0m\u001b[0;31m:\u001b[0m invalid syntax\n"
          ]
        }
      ]
    },
    {
      "cell_type": "code",
      "metadata": {
        "colab": {
          "base_uri": "https://localhost:8080/",
          "height": 163
        },
        "id": "52eWdVUKW7S1",
        "outputId": "fdf6d0a5-cf8d-4040-e1ec-a92a1234d5b1"
      },
      "source": [
        "1/0"
      ],
      "execution_count": null,
      "outputs": [
        {
          "output_type": "error",
          "ename": "ZeroDivisionError",
          "evalue": "ignored",
          "traceback": [
            "\u001b[0;31m---------------------------------------------------------------------------\u001b[0m",
            "\u001b[0;31mZeroDivisionError\u001b[0m                         Traceback (most recent call last)",
            "\u001b[0;32m<ipython-input-6-9e1622b385b6>\u001b[0m in \u001b[0;36m<module>\u001b[0;34m()\u001b[0m\n\u001b[0;32m----> 1\u001b[0;31m \u001b[0;36m1\u001b[0m\u001b[0;34m/\u001b[0m\u001b[0;36m0\u001b[0m\u001b[0;34m\u001b[0m\u001b[0;34m\u001b[0m\u001b[0m\n\u001b[0m",
            "\u001b[0;31mZeroDivisionError\u001b[0m: division by zero"
          ]
        }
      ]
    },
    {
      "cell_type": "code",
      "metadata": {
        "colab": {
          "base_uri": "https://localhost:8080/",
          "height": 129
        },
        "id": "uYLi6cOHXD16",
        "outputId": "c6baee90-cc28-4fa2-f4af-f0946e791150"
      },
      "source": [
        "$ = 32"
      ],
      "execution_count": null,
      "outputs": [
        {
          "output_type": "error",
          "ename": "SyntaxError",
          "evalue": "ignored",
          "traceback": [
            "\u001b[0;36m  File \u001b[0;32m\"<ipython-input-7-cecbb713e16c>\"\u001b[0;36m, line \u001b[0;32m1\u001b[0m\n\u001b[0;31m    $ = 32\u001b[0m\n\u001b[0m    ^\u001b[0m\n\u001b[0;31mSyntaxError\u001b[0m\u001b[0;31m:\u001b[0m invalid syntax\n"
          ]
        }
      ]
    },
    {
      "cell_type": "code",
      "metadata": {
        "colab": {
          "base_uri": "https://localhost:8080/",
          "height": 163
        },
        "id": "zHwbVjWiYq2u",
        "outputId": "234574b5-1b6d-4b53-f871-c3000e5d5557"
      },
      "source": [
        "  breakfast is ready"
      ],
      "execution_count": null,
      "outputs": [
        {
          "output_type": "error",
          "ename": "NameError",
          "evalue": "ignored",
          "traceback": [
            "\u001b[0;31m---------------------------------------------------------------------------\u001b[0m",
            "\u001b[0;31mNameError\u001b[0m                                 Traceback (most recent call last)",
            "\u001b[0;32m<ipython-input-9-2e166c329578>\u001b[0m in \u001b[0;36m<module>\u001b[0;34m()\u001b[0m\n\u001b[0;32m----> 1\u001b[0;31m \u001b[0mbreakfast\u001b[0m \u001b[0;32mis\u001b[0m \u001b[0mready\u001b[0m\u001b[0;34m\u001b[0m\u001b[0;34m\u001b[0m\u001b[0m\n\u001b[0m",
            "\u001b[0;31mNameError\u001b[0m: name 'breakfast' is not defined"
          ]
        }
      ]
    },
    {
      "cell_type": "code",
      "metadata": {
        "colab": {
          "base_uri": "https://localhost:8080/",
          "height": 129
        },
        "id": "87V4zHEEZKKp",
        "outputId": "24004946-9f2d-4647-f62a-323866e5a305"
      },
      "source": [
        "('hello world'"
      ],
      "execution_count": null,
      "outputs": [
        {
          "output_type": "error",
          "ename": "SyntaxError",
          "evalue": "ignored",
          "traceback": [
            "\u001b[0;36m  File \u001b[0;32m\"<ipython-input-11-b3b0b305fab6>\"\u001b[0;36m, line \u001b[0;32m1\u001b[0m\n\u001b[0;31m    ('hello world'\u001b[0m\n\u001b[0m                  ^\u001b[0m\n\u001b[0;31mSyntaxError\u001b[0m\u001b[0;31m:\u001b[0m unexpected EOF while parsing\n"
          ]
        }
      ]
    },
    {
      "cell_type": "code",
      "metadata": {
        "colab": {
          "base_uri": "https://localhost:8080/",
          "height": 129
        },
        "id": "Ii5emRkiaCI1",
        "outputId": "3aa37ac3-8a80-4f2b-cf66-adad642b21df"
      },
      "source": [
        "(hey!)"
      ],
      "execution_count": null,
      "outputs": [
        {
          "output_type": "error",
          "ename": "SyntaxError",
          "evalue": "ignored",
          "traceback": [
            "\u001b[0;36m  File \u001b[0;32m\"<ipython-input-13-05c42962edda>\"\u001b[0;36m, line \u001b[0;32m1\u001b[0m\n\u001b[0;31m    (hey!)\u001b[0m\n\u001b[0m        ^\u001b[0m\n\u001b[0;31mSyntaxError\u001b[0m\u001b[0;31m:\u001b[0m invalid syntax\n"
          ]
        }
      ]
    },
    {
      "cell_type": "code",
      "metadata": {
        "colab": {
          "base_uri": "https://localhost:8080/",
          "height": 129
        },
        "id": "xo23dQXNcgrp",
        "outputId": "22825459-9a26-4e1a-a998-5bfc92449a34"
      },
      "source": [
        "\"hello world\" = \"hey\""
      ],
      "execution_count": null,
      "outputs": [
        {
          "output_type": "error",
          "ename": "SyntaxError",
          "evalue": "ignored",
          "traceback": [
            "\u001b[0;36m  File \u001b[0;32m\"<ipython-input-17-a9f64b14e28c>\"\u001b[0;36m, line \u001b[0;32m1\u001b[0m\n\u001b[0;31m    \"hello world\" = \"hey\"\u001b[0m\n\u001b[0m                         ^\u001b[0m\n\u001b[0;31mSyntaxError\u001b[0m\u001b[0;31m:\u001b[0m can't assign to literal\n"
          ]
        }
      ]
    },
    {
      "cell_type": "code",
      "metadata": {
        "id": "yvJYEwi3rTA_"
      },
      "source": [
        ""
      ],
      "execution_count": null,
      "outputs": []
    },
    {
      "cell_type": "markdown",
      "metadata": {
        "id": "mfBSUGPjtPS9"
      },
      "source": [
        "# $i is not a variable name since it have a special character"
      ]
    },
    {
      "cell_type": "markdown",
      "metadata": {
        "id": "fl-Od7DYrY9e"
      },
      "source": [
        "# square-root is not a good variable since it has a dash instead of an undecore"
      ]
    },
    {
      "cell_type": "code",
      "metadata": {
        "id": "gkNuqK82rv8z"
      },
      "source": [
        ""
      ],
      "execution_count": null,
      "outputs": []
    },
    {
      "cell_type": "markdown",
      "metadata": {
        "id": "t2wpWGN6ryyw"
      },
      "source": [
        "# - not  agood variable name an undecore should be used instead of a dash"
      ]
    },
    {
      "cell_type": "code",
      "metadata": {
        "id": "HScs-QCKsYnv"
      },
      "source": [
        ""
      ],
      "execution_count": null,
      "outputs": []
    },
    {
      "cell_type": "markdown",
      "metadata": {
        "id": "tAVSDbJGsbPZ"
      },
      "source": [
        "# 34 is not a variable name since it has a value of 34 while a variable name should consist of numbers ranging from 0-9"
      ]
    },
    {
      "cell_type": "code",
      "metadata": {
        "id": "s5C1E0c8tJYw"
      },
      "source": [
        ""
      ],
      "execution_count": null,
      "outputs": []
    },
    {
      "cell_type": "markdown",
      "metadata": {
        "id": "L7ufs4Nju9xe"
      },
      "source": [
        "# shorteredge and shorter_edge, shorter_edge is a more correct name for a variable since an undercore has been used"
      ]
    },
    {
      "cell_type": "code",
      "metadata": {
        "id": "dJe0eR-Pvb9a"
      },
      "source": [
        ""
      ],
      "execution_count": null,
      "outputs": []
    },
    {
      "cell_type": "code",
      "metadata": {
        "id": "Qxp4n2Tw2Cl6"
      },
      "source": [
        ""
      ],
      "execution_count": null,
      "outputs": []
    },
    {
      "cell_type": "markdown",
      "metadata": {
        "id": "plxLBBdI2V26"
      },
      "source": [
        "# PEP 8 is a document that provides guidelines and best practises on how to write a python code, its document that describes new features proposed for python and documents aspect for pyhton, pep 8 variable names example shorte_edge, NUMBER_OF_POINTS"
      ]
    },
    {
      "cell_type": "code",
      "metadata": {
        "colab": {
          "base_uri": "https://localhost:8080/"
        },
        "id": "m4ClUN7GA8fN",
        "outputId": "ba309371-70af-48ba-df7d-d1aad95d3009"
      },
      "source": [
        "print('the volume of a cube with a side of 2852 cm is', 2852*2852*2852, 'cm')\n",
        "print('the surface area of a cube with a side of 2852 cm is', 6*2852*2852, 'cm')"
      ],
      "execution_count": null,
      "outputs": [
        {
          "output_type": "stream",
          "name": "stdout",
          "text": [
            "the volume of a cube with a side of 2852 cm is 23197894208 cm\n",
            "the surface area of a cube with a side of 2852 cm is 48803424 cm\n"
          ]
        }
      ]
    },
    {
      "cell_type": "code",
      "metadata": {
        "colab": {
          "base_uri": "https://localhost:8080/"
        },
        "id": "_YVu189GBjui",
        "outputId": "d36b9f9b-1ea4-45b6-fa93-26d9727a9993"
      },
      "source": [
        "side = 2852\n",
        "print(\"the volume of a cube with a side of\", side, \"cm is\", side*side*side, \"cm.\")\n",
        "print(\"the surface area of a cube with a side of\", side, \"cm is\", 6*side*side, \"cm.\")"
      ],
      "execution_count": null,
      "outputs": [
        {
          "output_type": "stream",
          "name": "stdout",
          "text": [
            "the volume of a cube with a side of 2852 cm is 23197894208 cm.\n",
            "the surface area of a cube with a side of 2852 cm is 48803424 cm.\n"
          ]
        }
      ]
    },
    {
      "cell_type": "code",
      "metadata": {
        "id": "w-FAyf3lC6JE"
      },
      "source": [
        ""
      ],
      "execution_count": null,
      "outputs": []
    }
  ]
}