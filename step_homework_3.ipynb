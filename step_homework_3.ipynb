{
  "nbformat": 4,
  "nbformat_minor": 0,
  "metadata": {
    "colab": {
      "name": "step. homework 3",
      "provenance": [],
      "collapsed_sections": [],
      "authorship_tag": "ABX9TyP74nQGJzQoN6FcUZ8Of//9",
      "include_colab_link": true
    },
    "kernelspec": {
      "display_name": "Python 3",
      "name": "python3"
    },
    "language_info": {
      "name": "python"
    }
  },
  "cells": [
    {
      "cell_type": "markdown",
      "metadata": {
        "id": "view-in-github",
        "colab_type": "text"
      },
      "source": [
        "<a href=\"https://colab.research.google.com/github/Steph6057/Git_Pyladies/blob/main/step_homework_3.ipynb\" target=\"_parent\"><img src=\"https://colab.research.google.com/assets/colab-badge.svg\" alt=\"Open In Colab\"/></a>"
      ]
    },
    {
      "cell_type": "markdown",
      "metadata": {
        "id": "TQiRjZ2yWadk"
      },
      "source": [
        "# 1. what is the value of a variable after execution of the following commands?"
      ]
    },
    {
      "cell_type": "code",
      "metadata": {
        "colab": {
          "base_uri": "https://localhost:8080/"
        },
        "id": "tjZwCr-SWk3n",
        "outputId": "16accb6e-b173-47cc-fd8d-9493ba3e9239"
      },
      "source": [
        "variable = 1<2\n",
        "variable"
      ],
      "execution_count": null,
      "outputs": [
        {
          "output_type": "execute_result",
          "data": {
            "text/plain": [
              "True"
            ]
          },
          "metadata": {},
          "execution_count": 1
        }
      ]
    },
    {
      "cell_type": "code",
      "metadata": {
        "colab": {
          "base_uri": "https://localhost:8080/"
        },
        "id": "cl7ZdNtpWsCF",
        "outputId": "3d9ee229-3b9c-4551-9c9b-d3e55e507e3c"
      },
      "source": [
        "variable = 2<2\n",
        "variable"
      ],
      "execution_count": null,
      "outputs": [
        {
          "output_type": "execute_result",
          "data": {
            "text/plain": [
              "False"
            ]
          },
          "metadata": {},
          "execution_count": 2
        }
      ]
    },
    {
      "cell_type": "code",
      "metadata": {
        "colab": {
          "base_uri": "https://localhost:8080/"
        },
        "id": "GKmURQ0vW6Uu",
        "outputId": "623ea5c2-56f6-4b64-d1ff-6b266421e78a"
      },
      "source": [
        "variable = 1<2<3\n",
        "variable"
      ],
      "execution_count": null,
      "outputs": [
        {
          "output_type": "execute_result",
          "data": {
            "text/plain": [
              "True"
            ]
          },
          "metadata": {},
          "execution_count": 3
        }
      ]
    },
    {
      "cell_type": "code",
      "metadata": {
        "colab": {
          "base_uri": "https://localhost:8080/"
        },
        "id": "la3xqTWyXE31",
        "outputId": "e08183fe-19df-4a1b-d7f8-84b3ced0b577"
      },
      "source": [
        "variable = 1<3<2\n",
        "variable"
      ],
      "execution_count": null,
      "outputs": [
        {
          "output_type": "execute_result",
          "data": {
            "text/plain": [
              "False"
            ]
          },
          "metadata": {},
          "execution_count": 4
        }
      ]
    },
    {
      "cell_type": "code",
      "metadata": {
        "colab": {
          "base_uri": "https://localhost:8080/"
        },
        "id": "Am6aVm32XK-N",
        "outputId": "5f259d9c-f1fa-4e5b-ffc7-7581bed68729"
      },
      "source": [
        "variable = 'abc'<'ABC'<'rabbit'\n",
        "variable"
      ],
      "execution_count": null,
      "outputs": [
        {
          "output_type": "execute_result",
          "data": {
            "text/plain": [
              "False"
            ]
          },
          "metadata": {},
          "execution_count": 5
        }
      ]
    },
    {
      "cell_type": "markdown",
      "metadata": {
        "id": "79y65pH_XdID"
      },
      "source": [
        "# 2. remember the age comparison from the last lecture?think about something else to compare"
      ]
    },
    {
      "cell_type": "code",
      "metadata": {
        "colab": {
          "base_uri": "https://localhost:8080/"
        },
        "id": "NFXLomJkcjQp",
        "outputId": "2dcb9a1f-997a-41db-9ff0-e6440b4ccbea"
      },
      "source": [
        "weight = int(input('how many kilograms of fish were caught?'))\n",
        "if weight >= 2500:\n",
        "  print('what types of fish were caught?')\n",
        "elif weight >= 1500:\n",
        "     print('we can buy the big ones')\n",
        "elif weight >= 900:\n",
        "     print('we can buy the smaller ones')\n",
        "else : \n",
        "     # if no condition is met from aove, the weight has to be negative.\n",
        "     print('no fish will be bought')\n",
        "     \n"
      ],
      "execution_count": null,
      "outputs": [
        {
          "output_type": "stream",
          "name": "stdout",
          "text": [
            "how many kilograms of fish were caught?2000\n",
            "we can buy the big ones\n"
          ]
        }
      ]
    },
    {
      "cell_type": "markdown",
      "metadata": {
        "id": "b_rf_LhcwY62"
      },
      "source": [
        "# 3.write a program that after inserting the right password to an input returns a secret information. (e.g After typing bread, you will receive:'meeting is at 11')"
      ]
    },
    {
      "cell_type": "markdown",
      "metadata": {
        "id": "Lq82Ezx-i_xI"
      },
      "source": [
        "# 4. fill in the table with true or false of the results and verify your answers:"
      ]
    },
    {
      "cell_type": "markdown",
      "metadata": {
        "id": "TD4yPCKBlWzu"
      },
      "source": [
        "# a AND b is true since the both operands are true"
      ]
    },
    {
      "cell_type": "markdown",
      "metadata": {
        "id": "m42DW5cCljvQ"
      },
      "source": [
        "# a OR b is true since both of the operands are true"
      ]
    },
    {
      "cell_type": "markdown",
      "metadata": {
        "id": "xMsJagzyluWp"
      },
      "source": [
        "# NOT a is false since the operand is true"
      ]
    },
    {
      "cell_type": "markdown",
      "metadata": {
        "id": "MLjsFEK3mCiP"
      },
      "source": [
        "# ii) a is false, b is true"
      ]
    },
    {
      "cell_type": "markdown",
      "metadata": {
        "id": "3uyM2HXOmRHG"
      },
      "source": [
        "# a AND b is false since the both of the operands are not true"
      ]
    },
    {
      "cell_type": "markdown",
      "metadata": {
        "id": "8c-65_TJmfai"
      },
      "source": [
        "# a OR b is true since one of the operand is true"
      ]
    },
    {
      "cell_type": "markdown",
      "metadata": {
        "id": "S2WTsH5Ymt2a"
      },
      "source": [
        "# NOT a is true since the operand is false "
      ]
    },
    {
      "cell_type": "markdown",
      "metadata": {
        "id": "g2_pUzrYm140"
      },
      "source": [
        "# iii) a is true, b is false"
      ]
    },
    {
      "cell_type": "markdown",
      "metadata": {
        "id": "OGeTDbW9nSKX"
      },
      "source": [
        "#a AND b is false since the both operands are not true"
      ]
    },
    {
      "cell_type": "markdown",
      "metadata": {
        "id": "NrIBNFnBneEN"
      },
      "source": [
        "# a OR b is true since one of the operand is true"
      ]
    },
    {
      "cell_type": "markdown",
      "metadata": {
        "id": "LM5TvIynnnvv"
      },
      "source": [
        "#NOT a is false since the operand is true"
      ]
    },
    {
      "cell_type": "markdown",
      "metadata": {
        "id": "MrTjWodOnyQq"
      },
      "source": [
        "# iv) a is false, b is false"
      ]
    },
    {
      "cell_type": "markdown",
      "metadata": {
        "id": "I2Uymc_in7Sf"
      },
      "source": [
        "# a AND b is false since both of the operands are false"
      ]
    },
    {
      "cell_type": "markdown",
      "metadata": {
        "id": "3keQugCRoFLB"
      },
      "source": [
        "# a OR b is false since none of the operands is true"
      ]
    },
    {
      "cell_type": "markdown",
      "metadata": {
        "id": "EesNYQu3oPSi"
      },
      "source": [
        "# NOT a is true since the operand is false"
      ]
    },
    {
      "cell_type": "markdown",
      "metadata": {
        "id": "BR7Nl0omoh9j"
      },
      "source": [
        "# 5) we are going through alot of new expressions and terms, can you describe them with your own words?"
      ]
    },
    {
      "cell_type": "markdown",
      "metadata": {
        "id": "cNup9EBmpyj1"
      },
      "source": [
        "# 0. Function - a python function returns a value using a return statement like the code within the function can be executed"
      ]
    },
    {
      "cell_type": "markdown",
      "metadata": {
        "id": "-9Nq2jkms64n"
      },
      "source": [
        "# Argument - these are the values that are assigned to the parameters when passed into a function like sin(1) so 1 here is the argument"
      ]
    },
    {
      "cell_type": "markdown",
      "metadata": {
        "id": "6zIFDKzNtwjj"
      },
      "source": [
        "# Variable - they are used to name values"
      ]
    },
    {
      "cell_type": "markdown",
      "metadata": {
        "id": "TP1T_2aOvOmR"
      },
      "source": [
        "# Expressions - these represents different types of values like 2+2, 3+1"
      ]
    },
    {
      "cell_type": "markdown",
      "metadata": {
        "id": "XDBk7CcdwH6J"
      },
      "source": [
        "# Operator - these are special symbols that performs an operation like ==, >>, * and are performed in various operands."
      ]
    },
    {
      "cell_type": "markdown",
      "metadata": {
        "id": "WgINYMb0xauQ"
      },
      "source": [
        "# Cycle/Loop - they allow you to repeat similar operations in a code"
      ]
    },
    {
      "cell_type": "markdown",
      "metadata": {
        "id": "bp79ZSDgyk1t"
      },
      "source": [
        "# 6) Draw a triangle"
      ]
    },
    {
      "cell_type": "code",
      "metadata": {
        "colab": {
          "base_uri": "https://localhost:8080/",
          "height": 538
        },
        "id": "3Rc9Bqrr4tb_",
        "outputId": "d5434ac1-a52f-4192-8d5e-dab6b1769366"
      },
      "source": [
        "!pip3 install ColabTurtle\n",
        "from ColabTurtle.Turtle import*\n",
        "initializeTurtle()"
      ],
      "execution_count": null,
      "outputs": [
        {
          "output_type": "stream",
          "name": "stdout",
          "text": [
            "Requirement already satisfied: ColabTurtle in /usr/local/lib/python3.7/dist-packages (2.1.0)\n"
          ]
        },
        {
          "output_type": "display_data",
          "data": {
            "text/html": [
              "\n",
              "      <svg width=\"800\" height=\"500\">\n",
              "        <rect width=\"100%\" height=\"100%\" fill=\"black\"/>\n",
              "        \n",
              "        <g visibility=visible transform=\"rotate(360,400,250) translate(382, 232)\">\n",
              "<path style=\" stroke:none;fill-rule:evenodd;fill:white;fill-opacity:1;\" d=\"M 18.214844 0.632812 C 16.109375 1.800781 15.011719 4.074219 15.074219 7.132812 L 15.085938 7.652344 L 14.785156 7.496094 C 13.476562 6.824219 11.957031 6.671875 10.40625 7.066406 C 8.46875 7.550781 6.515625 9.15625 4.394531 11.992188 C 3.0625 13.777344 2.679688 14.636719 3.042969 15.027344 L 3.15625 15.152344 L 3.519531 15.152344 C 4.238281 15.152344 4.828125 14.886719 8.1875 13.039062 C 9.386719 12.378906 10.371094 11.839844 10.378906 11.839844 C 10.386719 11.839844 10.355469 11.929688 10.304688 12.035156 C 9.832031 13.09375 9.257812 14.820312 8.96875 16.078125 C 7.914062 20.652344 8.617188 24.53125 11.070312 27.660156 C 11.351562 28.015625 11.363281 27.914062 10.972656 28.382812 C 8.925781 30.84375 7.945312 33.28125 8.238281 35.1875 C 8.289062 35.527344 8.28125 35.523438 8.917969 35.523438 C 10.941406 35.523438 13.074219 34.207031 15.136719 31.6875 C 15.359375 31.417969 15.328125 31.425781 15.5625 31.574219 C 16.292969 32.042969 18.023438 32.964844 18.175781 32.964844 C 18.335938 32.964844 19.941406 32.210938 20.828125 31.71875 C 20.996094 31.625 21.136719 31.554688 21.136719 31.558594 C 21.203125 31.664062 21.898438 32.414062 22.222656 32.730469 C 23.835938 34.300781 25.5625 35.132812 27.582031 35.300781 C 27.90625 35.328125 27.9375 35.308594 28.007812 34.984375 C 28.382812 33.242188 27.625 30.925781 25.863281 28.425781 L 25.542969 27.96875 L 25.699219 27.785156 C 28.945312 23.960938 29.132812 18.699219 26.257812 11.96875 L 26.207031 11.84375 L 27.945312 12.703125 C 31.53125 14.476562 32.316406 14.800781 33.03125 14.800781 C 33.976562 14.800781 33.78125 13.9375 32.472656 12.292969 C 28.519531 7.355469 25.394531 5.925781 21.921875 7.472656 L 21.558594 7.636719 L 21.578125 7.542969 C 21.699219 6.992188 21.761719 5.742188 21.699219 5.164062 C 21.496094 3.296875 20.664062 1.964844 19.003906 0.855469 C 18.480469 0.503906 18.457031 0.5 18.214844 0.632812\"/>\n",
              "</g>\n",
              "      </svg>\n",
              "    "
            ],
            "text/plain": [
              "<IPython.core.display.HTML object>"
            ]
          },
          "metadata": {}
        }
      ]
    },
    {
      "cell_type": "code",
      "metadata": {
        "colab": {
          "base_uri": "https://localhost:8080/",
          "height": 521
        },
        "id": "Em8zy-zQ7H3q",
        "outputId": "99045d65-d1f4-4061-e091-7e9c8e10b868"
      },
      "source": [
        "forward(50)\n",
        "left(120)\n",
        "forward(50)\n",
        "left(120)\n",
        "forward(50)\n",
        "left(120)"
      ],
      "execution_count": null,
      "outputs": [
        {
          "output_type": "display_data",
          "data": {
            "text/html": [
              "\n",
              "      <svg width=\"800\" height=\"500\">\n",
              "        <rect width=\"100%\" height=\"100%\" fill=\"black\"/>\n",
              "        <line x1=\"400\" y1=\"250\" x2=\"400.0\" y2=\"150.0\" stroke-linecap=\"round\" style=\"stroke:white;stroke-width:4\"/><line x1=\"400.0\" y1=\"150.0\" x2=\"304.894\" y2=\"119.098\" stroke-linecap=\"round\" style=\"stroke:white;stroke-width:4\"/><line x1=\"304.894\" y1=\"119.098\" x2=\"246.115\" y2=\"200.0\" stroke-linecap=\"round\" style=\"stroke:white;stroke-width:4\"/><line x1=\"246.115\" y1=\"200.0\" x2=\"304.894\" y2=\"280.902\" stroke-linecap=\"round\" style=\"stroke:white;stroke-width:4\"/><line x1=\"304.894\" y1=\"280.902\" x2=\"400.0\" y2=\"250.0\" stroke-linecap=\"round\" style=\"stroke:white;stroke-width:4\"/><line x1=\"400.0\" y1=\"250.0\" x2=\"400.0\" y2=\"150.0\" stroke-linecap=\"round\" style=\"stroke:white;stroke-width:4\"/><line x1=\"400.0\" y1=\"150.0\" x2=\"313.397\" y2=\"100.0\" stroke-linecap=\"round\" style=\"stroke:white;stroke-width:4\"/><line x1=\"313.397\" y1=\"100.0\" x2=\"226.794\" y2=\"150.0\" stroke-linecap=\"round\" style=\"stroke:white;stroke-width:4\"/><line x1=\"226.794\" y1=\"150.0\" x2=\"226.794\" y2=\"250.0\" stroke-linecap=\"round\" style=\"stroke:white;stroke-width:4\"/><line x1=\"226.794\" y1=\"250.0\" x2=\"313.397\" y2=\"300.0\" stroke-linecap=\"round\" style=\"stroke:white;stroke-width:4\"/><line x1=\"313.397\" y1=\"300.0\" x2=\"400.0\" y2=\"250.0\" stroke-linecap=\"round\" style=\"stroke:white;stroke-width:4\"/><line x1=\"400.0\" y1=\"250.0\" x2=\"400.0\" y2=\"150.0\" stroke-linecap=\"round\" style=\"stroke:white;stroke-width:4\"/><line x1=\"400.0\" y1=\"150.0\" x2=\"321.826\" y2=\"87.639\" stroke-linecap=\"round\" style=\"stroke:white;stroke-width:4\"/><line x1=\"321.826\" y1=\"87.639\" x2=\"224.327\" y2=\"109.862\" stroke-linecap=\"round\" style=\"stroke:white;stroke-width:4\"/><line x1=\"224.327\" y1=\"109.862\" x2=\"180.898\" y2=\"199.939\" stroke-linecap=\"round\" style=\"stroke:white;stroke-width:4\"/><line x1=\"180.898\" y1=\"199.939\" x2=\"224.232\" y2=\"290.062\" stroke-linecap=\"round\" style=\"stroke:white;stroke-width:4\"/><line x1=\"224.232\" y1=\"290.062\" x2=\"321.708\" y2=\"312.387\" stroke-linecap=\"round\" style=\"stroke:white;stroke-width:4\"/><line x1=\"321.708\" y1=\"312.387\" x2=\"399.947\" y2=\"250.108\" stroke-linecap=\"round\" style=\"stroke:white;stroke-width:4\"/><line x1=\"399.947\" y1=\"250.108\" x2=\"400.052\" y2=\"150.108\" stroke-linecap=\"round\" style=\"stroke:white;stroke-width:4\"/><line x1=\"400.052\" y1=\"150.108\" x2=\"329.415\" y2=\"79.323\" stroke-linecap=\"round\" style=\"stroke:white;stroke-width:4\"/><line x1=\"329.415\" y1=\"79.323\" x2=\"229.415\" y2=\"79.218\" stroke-linecap=\"round\" style=\"stroke:white;stroke-width:4\"/><line x1=\"229.415\" y1=\"79.218\" x2=\"158.63\" y2=\"149.855\" stroke-linecap=\"round\" style=\"stroke:white;stroke-width:4\"/><line x1=\"158.63\" y1=\"149.855\" x2=\"158.525\" y2=\"249.855\" stroke-linecap=\"round\" style=\"stroke:white;stroke-width:4\"/><line x1=\"158.525\" y1=\"249.855\" x2=\"229.162\" y2=\"320.64\" stroke-linecap=\"round\" style=\"stroke:white;stroke-width:4\"/><line x1=\"229.162\" y1=\"320.64\" x2=\"329.162\" y2=\"320.745\" stroke-linecap=\"round\" style=\"stroke:white;stroke-width:4\"/><line x1=\"329.162\" y1=\"320.745\" x2=\"399.947\" y2=\"250.108\" stroke-linecap=\"round\" style=\"stroke:white;stroke-width:4\"/><line x1=\"399.947\" y1=\"250.108\" x2=\"399.999\" y2=\"200.108\" stroke-linecap=\"round\" style=\"stroke:white;stroke-width:4\"/><line x1=\"399.999\" y1=\"200.108\" x2=\"356.672\" y2=\"225.063\" stroke-linecap=\"round\" style=\"stroke:white;stroke-width:4\"/><line x1=\"356.672\" y1=\"225.063\" x2=\"399.947\" y2=\"250.108\" stroke-linecap=\"round\" style=\"stroke:white;stroke-width:4\"/>\n",
              "        <g visibility=visible transform=\"rotate(360.05999999999995,399.947,250.108) translate(381.947, 232.108)\">\n",
              "<path style=\" stroke:none;fill-rule:evenodd;fill:white;fill-opacity:1;\" d=\"M 18.214844 0.632812 C 16.109375 1.800781 15.011719 4.074219 15.074219 7.132812 L 15.085938 7.652344 L 14.785156 7.496094 C 13.476562 6.824219 11.957031 6.671875 10.40625 7.066406 C 8.46875 7.550781 6.515625 9.15625 4.394531 11.992188 C 3.0625 13.777344 2.679688 14.636719 3.042969 15.027344 L 3.15625 15.152344 L 3.519531 15.152344 C 4.238281 15.152344 4.828125 14.886719 8.1875 13.039062 C 9.386719 12.378906 10.371094 11.839844 10.378906 11.839844 C 10.386719 11.839844 10.355469 11.929688 10.304688 12.035156 C 9.832031 13.09375 9.257812 14.820312 8.96875 16.078125 C 7.914062 20.652344 8.617188 24.53125 11.070312 27.660156 C 11.351562 28.015625 11.363281 27.914062 10.972656 28.382812 C 8.925781 30.84375 7.945312 33.28125 8.238281 35.1875 C 8.289062 35.527344 8.28125 35.523438 8.917969 35.523438 C 10.941406 35.523438 13.074219 34.207031 15.136719 31.6875 C 15.359375 31.417969 15.328125 31.425781 15.5625 31.574219 C 16.292969 32.042969 18.023438 32.964844 18.175781 32.964844 C 18.335938 32.964844 19.941406 32.210938 20.828125 31.71875 C 20.996094 31.625 21.136719 31.554688 21.136719 31.558594 C 21.203125 31.664062 21.898438 32.414062 22.222656 32.730469 C 23.835938 34.300781 25.5625 35.132812 27.582031 35.300781 C 27.90625 35.328125 27.9375 35.308594 28.007812 34.984375 C 28.382812 33.242188 27.625 30.925781 25.863281 28.425781 L 25.542969 27.96875 L 25.699219 27.785156 C 28.945312 23.960938 29.132812 18.699219 26.257812 11.96875 L 26.207031 11.84375 L 27.945312 12.703125 C 31.53125 14.476562 32.316406 14.800781 33.03125 14.800781 C 33.976562 14.800781 33.78125 13.9375 32.472656 12.292969 C 28.519531 7.355469 25.394531 5.925781 21.921875 7.472656 L 21.558594 7.636719 L 21.578125 7.542969 C 21.699219 6.992188 21.761719 5.742188 21.699219 5.164062 C 21.496094 3.296875 20.664062 1.964844 19.003906 0.855469 C 18.480469 0.503906 18.457031 0.5 18.214844 0.632812\"/>\n",
              "</g>\n",
              "      </svg>\n",
              "    "
            ],
            "text/plain": [
              "<IPython.core.display.HTML object>"
            ]
          },
          "metadata": {}
        }
      ]
    },
    {
      "cell_type": "markdown",
      "metadata": {
        "id": "vJgd6CsWy09m"
      },
      "source": [
        "# 7)Draw a pentagon, hexagon, heptagon, octagon"
      ]
    },
    {
      "cell_type": "code",
      "metadata": {
        "colab": {
          "base_uri": "https://localhost:8080/",
          "height": 521
        },
        "id": "E2BwUJZ65HH1",
        "outputId": "c2634be6-595a-45a0-b1e3-97afca0521c8"
      },
      "source": [
        "for i in range(5):\n",
        "  forward(100)\n",
        "  left(72)"
      ],
      "execution_count": null,
      "outputs": [
        {
          "output_type": "display_data",
          "data": {
            "text/html": [
              "\n",
              "      <svg width=\"800\" height=\"500\">\n",
              "        <rect width=\"100%\" height=\"100%\" fill=\"black\"/>\n",
              "        <line x1=\"400\" y1=\"250\" x2=\"400.0\" y2=\"150.0\" stroke-linecap=\"round\" style=\"stroke:white;stroke-width:4\"/><line x1=\"400.0\" y1=\"150.0\" x2=\"304.894\" y2=\"119.098\" stroke-linecap=\"round\" style=\"stroke:white;stroke-width:4\"/><line x1=\"304.894\" y1=\"119.098\" x2=\"246.115\" y2=\"200.0\" stroke-linecap=\"round\" style=\"stroke:white;stroke-width:4\"/><line x1=\"246.115\" y1=\"200.0\" x2=\"304.894\" y2=\"280.902\" stroke-linecap=\"round\" style=\"stroke:white;stroke-width:4\"/><line x1=\"304.894\" y1=\"280.902\" x2=\"400.0\" y2=\"250.0\" stroke-linecap=\"round\" style=\"stroke:white;stroke-width:4\"/>\n",
              "        <g visibility=visible transform=\"rotate(360,400.0,250.0) translate(382.0, 232.0)\">\n",
              "<path style=\" stroke:none;fill-rule:evenodd;fill:white;fill-opacity:1;\" d=\"M 18.214844 0.632812 C 16.109375 1.800781 15.011719 4.074219 15.074219 7.132812 L 15.085938 7.652344 L 14.785156 7.496094 C 13.476562 6.824219 11.957031 6.671875 10.40625 7.066406 C 8.46875 7.550781 6.515625 9.15625 4.394531 11.992188 C 3.0625 13.777344 2.679688 14.636719 3.042969 15.027344 L 3.15625 15.152344 L 3.519531 15.152344 C 4.238281 15.152344 4.828125 14.886719 8.1875 13.039062 C 9.386719 12.378906 10.371094 11.839844 10.378906 11.839844 C 10.386719 11.839844 10.355469 11.929688 10.304688 12.035156 C 9.832031 13.09375 9.257812 14.820312 8.96875 16.078125 C 7.914062 20.652344 8.617188 24.53125 11.070312 27.660156 C 11.351562 28.015625 11.363281 27.914062 10.972656 28.382812 C 8.925781 30.84375 7.945312 33.28125 8.238281 35.1875 C 8.289062 35.527344 8.28125 35.523438 8.917969 35.523438 C 10.941406 35.523438 13.074219 34.207031 15.136719 31.6875 C 15.359375 31.417969 15.328125 31.425781 15.5625 31.574219 C 16.292969 32.042969 18.023438 32.964844 18.175781 32.964844 C 18.335938 32.964844 19.941406 32.210938 20.828125 31.71875 C 20.996094 31.625 21.136719 31.554688 21.136719 31.558594 C 21.203125 31.664062 21.898438 32.414062 22.222656 32.730469 C 23.835938 34.300781 25.5625 35.132812 27.582031 35.300781 C 27.90625 35.328125 27.9375 35.308594 28.007812 34.984375 C 28.382812 33.242188 27.625 30.925781 25.863281 28.425781 L 25.542969 27.96875 L 25.699219 27.785156 C 28.945312 23.960938 29.132812 18.699219 26.257812 11.96875 L 26.207031 11.84375 L 27.945312 12.703125 C 31.53125 14.476562 32.316406 14.800781 33.03125 14.800781 C 33.976562 14.800781 33.78125 13.9375 32.472656 12.292969 C 28.519531 7.355469 25.394531 5.925781 21.921875 7.472656 L 21.558594 7.636719 L 21.578125 7.542969 C 21.699219 6.992188 21.761719 5.742188 21.699219 5.164062 C 21.496094 3.296875 20.664062 1.964844 19.003906 0.855469 C 18.480469 0.503906 18.457031 0.5 18.214844 0.632812\"/>\n",
              "</g>\n",
              "      </svg>\n",
              "    "
            ],
            "text/plain": [
              "<IPython.core.display.HTML object>"
            ]
          },
          "metadata": {}
        }
      ]
    },
    {
      "cell_type": "code",
      "metadata": {
        "colab": {
          "base_uri": "https://localhost:8080/",
          "height": 521
        },
        "id": "CgZ2bjEt5QcK",
        "outputId": "f5b0bb59-c40c-4b3d-9d58-c69595083d0d"
      },
      "source": [
        "for i in range(6):\n",
        "  forward(100)\n",
        "  left(60)"
      ],
      "execution_count": null,
      "outputs": [
        {
          "output_type": "display_data",
          "data": {
            "text/html": [
              "\n",
              "      <svg width=\"800\" height=\"500\">\n",
              "        <rect width=\"100%\" height=\"100%\" fill=\"black\"/>\n",
              "        <line x1=\"400\" y1=\"250\" x2=\"400.0\" y2=\"150.0\" stroke-linecap=\"round\" style=\"stroke:white;stroke-width:4\"/><line x1=\"400.0\" y1=\"150.0\" x2=\"304.894\" y2=\"119.098\" stroke-linecap=\"round\" style=\"stroke:white;stroke-width:4\"/><line x1=\"304.894\" y1=\"119.098\" x2=\"246.115\" y2=\"200.0\" stroke-linecap=\"round\" style=\"stroke:white;stroke-width:4\"/><line x1=\"246.115\" y1=\"200.0\" x2=\"304.894\" y2=\"280.902\" stroke-linecap=\"round\" style=\"stroke:white;stroke-width:4\"/><line x1=\"304.894\" y1=\"280.902\" x2=\"400.0\" y2=\"250.0\" stroke-linecap=\"round\" style=\"stroke:white;stroke-width:4\"/><line x1=\"400.0\" y1=\"250.0\" x2=\"400.0\" y2=\"150.0\" stroke-linecap=\"round\" style=\"stroke:white;stroke-width:4\"/><line x1=\"400.0\" y1=\"150.0\" x2=\"313.397\" y2=\"100.0\" stroke-linecap=\"round\" style=\"stroke:white;stroke-width:4\"/><line x1=\"313.397\" y1=\"100.0\" x2=\"226.794\" y2=\"150.0\" stroke-linecap=\"round\" style=\"stroke:white;stroke-width:4\"/><line x1=\"226.794\" y1=\"150.0\" x2=\"226.794\" y2=\"250.0\" stroke-linecap=\"round\" style=\"stroke:white;stroke-width:4\"/><line x1=\"226.794\" y1=\"250.0\" x2=\"313.397\" y2=\"300.0\" stroke-linecap=\"round\" style=\"stroke:white;stroke-width:4\"/><line x1=\"313.397\" y1=\"300.0\" x2=\"400.0\" y2=\"250.0\" stroke-linecap=\"round\" style=\"stroke:white;stroke-width:4\"/>\n",
              "        <g visibility=visible transform=\"rotate(360,400.0,250.0) translate(382.0, 232.0)\">\n",
              "<path style=\" stroke:none;fill-rule:evenodd;fill:white;fill-opacity:1;\" d=\"M 18.214844 0.632812 C 16.109375 1.800781 15.011719 4.074219 15.074219 7.132812 L 15.085938 7.652344 L 14.785156 7.496094 C 13.476562 6.824219 11.957031 6.671875 10.40625 7.066406 C 8.46875 7.550781 6.515625 9.15625 4.394531 11.992188 C 3.0625 13.777344 2.679688 14.636719 3.042969 15.027344 L 3.15625 15.152344 L 3.519531 15.152344 C 4.238281 15.152344 4.828125 14.886719 8.1875 13.039062 C 9.386719 12.378906 10.371094 11.839844 10.378906 11.839844 C 10.386719 11.839844 10.355469 11.929688 10.304688 12.035156 C 9.832031 13.09375 9.257812 14.820312 8.96875 16.078125 C 7.914062 20.652344 8.617188 24.53125 11.070312 27.660156 C 11.351562 28.015625 11.363281 27.914062 10.972656 28.382812 C 8.925781 30.84375 7.945312 33.28125 8.238281 35.1875 C 8.289062 35.527344 8.28125 35.523438 8.917969 35.523438 C 10.941406 35.523438 13.074219 34.207031 15.136719 31.6875 C 15.359375 31.417969 15.328125 31.425781 15.5625 31.574219 C 16.292969 32.042969 18.023438 32.964844 18.175781 32.964844 C 18.335938 32.964844 19.941406 32.210938 20.828125 31.71875 C 20.996094 31.625 21.136719 31.554688 21.136719 31.558594 C 21.203125 31.664062 21.898438 32.414062 22.222656 32.730469 C 23.835938 34.300781 25.5625 35.132812 27.582031 35.300781 C 27.90625 35.328125 27.9375 35.308594 28.007812 34.984375 C 28.382812 33.242188 27.625 30.925781 25.863281 28.425781 L 25.542969 27.96875 L 25.699219 27.785156 C 28.945312 23.960938 29.132812 18.699219 26.257812 11.96875 L 26.207031 11.84375 L 27.945312 12.703125 C 31.53125 14.476562 32.316406 14.800781 33.03125 14.800781 C 33.976562 14.800781 33.78125 13.9375 32.472656 12.292969 C 28.519531 7.355469 25.394531 5.925781 21.921875 7.472656 L 21.558594 7.636719 L 21.578125 7.542969 C 21.699219 6.992188 21.761719 5.742188 21.699219 5.164062 C 21.496094 3.296875 20.664062 1.964844 19.003906 0.855469 C 18.480469 0.503906 18.457031 0.5 18.214844 0.632812\"/>\n",
              "</g>\n",
              "      </svg>\n",
              "    "
            ],
            "text/plain": [
              "<IPython.core.display.HTML object>"
            ]
          },
          "metadata": {}
        }
      ]
    },
    {
      "cell_type": "code",
      "metadata": {
        "colab": {
          "base_uri": "https://localhost:8080/",
          "height": 521
        },
        "id": "MN-UkBFe5sUM",
        "outputId": "cd8b861d-8d30-4853-a62a-685b78d405c3"
      },
      "source": [
        "for i in range(7):\n",
        "  forward(100)\n",
        "  left(51.42)"
      ],
      "execution_count": null,
      "outputs": [
        {
          "output_type": "display_data",
          "data": {
            "text/html": [
              "\n",
              "      <svg width=\"800\" height=\"500\">\n",
              "        <rect width=\"100%\" height=\"100%\" fill=\"black\"/>\n",
              "        <line x1=\"400\" y1=\"250\" x2=\"400.0\" y2=\"150.0\" stroke-linecap=\"round\" style=\"stroke:white;stroke-width:4\"/><line x1=\"400.0\" y1=\"150.0\" x2=\"304.894\" y2=\"119.098\" stroke-linecap=\"round\" style=\"stroke:white;stroke-width:4\"/><line x1=\"304.894\" y1=\"119.098\" x2=\"246.115\" y2=\"200.0\" stroke-linecap=\"round\" style=\"stroke:white;stroke-width:4\"/><line x1=\"246.115\" y1=\"200.0\" x2=\"304.894\" y2=\"280.902\" stroke-linecap=\"round\" style=\"stroke:white;stroke-width:4\"/><line x1=\"304.894\" y1=\"280.902\" x2=\"400.0\" y2=\"250.0\" stroke-linecap=\"round\" style=\"stroke:white;stroke-width:4\"/><line x1=\"400.0\" y1=\"250.0\" x2=\"400.0\" y2=\"150.0\" stroke-linecap=\"round\" style=\"stroke:white;stroke-width:4\"/><line x1=\"400.0\" y1=\"150.0\" x2=\"313.397\" y2=\"100.0\" stroke-linecap=\"round\" style=\"stroke:white;stroke-width:4\"/><line x1=\"313.397\" y1=\"100.0\" x2=\"226.794\" y2=\"150.0\" stroke-linecap=\"round\" style=\"stroke:white;stroke-width:4\"/><line x1=\"226.794\" y1=\"150.0\" x2=\"226.794\" y2=\"250.0\" stroke-linecap=\"round\" style=\"stroke:white;stroke-width:4\"/><line x1=\"226.794\" y1=\"250.0\" x2=\"313.397\" y2=\"300.0\" stroke-linecap=\"round\" style=\"stroke:white;stroke-width:4\"/><line x1=\"313.397\" y1=\"300.0\" x2=\"400.0\" y2=\"250.0\" stroke-linecap=\"round\" style=\"stroke:white;stroke-width:4\"/><line x1=\"400.0\" y1=\"250.0\" x2=\"400.0\" y2=\"150.0\" stroke-linecap=\"round\" style=\"stroke:white;stroke-width:4\"/><line x1=\"400.0\" y1=\"150.0\" x2=\"321.826\" y2=\"87.639\" stroke-linecap=\"round\" style=\"stroke:white;stroke-width:4\"/><line x1=\"321.826\" y1=\"87.639\" x2=\"224.327\" y2=\"109.862\" stroke-linecap=\"round\" style=\"stroke:white;stroke-width:4\"/><line x1=\"224.327\" y1=\"109.862\" x2=\"180.898\" y2=\"199.939\" stroke-linecap=\"round\" style=\"stroke:white;stroke-width:4\"/><line x1=\"180.898\" y1=\"199.939\" x2=\"224.232\" y2=\"290.062\" stroke-linecap=\"round\" style=\"stroke:white;stroke-width:4\"/><line x1=\"224.232\" y1=\"290.062\" x2=\"321.708\" y2=\"312.387\" stroke-linecap=\"round\" style=\"stroke:white;stroke-width:4\"/><line x1=\"321.708\" y1=\"312.387\" x2=\"399.947\" y2=\"250.108\" stroke-linecap=\"round\" style=\"stroke:white;stroke-width:4\"/>\n",
              "        <g visibility=visible transform=\"rotate(360.05999999999995,399.947,250.108) translate(381.947, 232.108)\">\n",
              "<path style=\" stroke:none;fill-rule:evenodd;fill:white;fill-opacity:1;\" d=\"M 18.214844 0.632812 C 16.109375 1.800781 15.011719 4.074219 15.074219 7.132812 L 15.085938 7.652344 L 14.785156 7.496094 C 13.476562 6.824219 11.957031 6.671875 10.40625 7.066406 C 8.46875 7.550781 6.515625 9.15625 4.394531 11.992188 C 3.0625 13.777344 2.679688 14.636719 3.042969 15.027344 L 3.15625 15.152344 L 3.519531 15.152344 C 4.238281 15.152344 4.828125 14.886719 8.1875 13.039062 C 9.386719 12.378906 10.371094 11.839844 10.378906 11.839844 C 10.386719 11.839844 10.355469 11.929688 10.304688 12.035156 C 9.832031 13.09375 9.257812 14.820312 8.96875 16.078125 C 7.914062 20.652344 8.617188 24.53125 11.070312 27.660156 C 11.351562 28.015625 11.363281 27.914062 10.972656 28.382812 C 8.925781 30.84375 7.945312 33.28125 8.238281 35.1875 C 8.289062 35.527344 8.28125 35.523438 8.917969 35.523438 C 10.941406 35.523438 13.074219 34.207031 15.136719 31.6875 C 15.359375 31.417969 15.328125 31.425781 15.5625 31.574219 C 16.292969 32.042969 18.023438 32.964844 18.175781 32.964844 C 18.335938 32.964844 19.941406 32.210938 20.828125 31.71875 C 20.996094 31.625 21.136719 31.554688 21.136719 31.558594 C 21.203125 31.664062 21.898438 32.414062 22.222656 32.730469 C 23.835938 34.300781 25.5625 35.132812 27.582031 35.300781 C 27.90625 35.328125 27.9375 35.308594 28.007812 34.984375 C 28.382812 33.242188 27.625 30.925781 25.863281 28.425781 L 25.542969 27.96875 L 25.699219 27.785156 C 28.945312 23.960938 29.132812 18.699219 26.257812 11.96875 L 26.207031 11.84375 L 27.945312 12.703125 C 31.53125 14.476562 32.316406 14.800781 33.03125 14.800781 C 33.976562 14.800781 33.78125 13.9375 32.472656 12.292969 C 28.519531 7.355469 25.394531 5.925781 21.921875 7.472656 L 21.558594 7.636719 L 21.578125 7.542969 C 21.699219 6.992188 21.761719 5.742188 21.699219 5.164062 C 21.496094 3.296875 20.664062 1.964844 19.003906 0.855469 C 18.480469 0.503906 18.457031 0.5 18.214844 0.632812\"/>\n",
              "</g>\n",
              "      </svg>\n",
              "    "
            ],
            "text/plain": [
              "<IPython.core.display.HTML object>"
            ]
          },
          "metadata": {}
        }
      ]
    },
    {
      "cell_type": "code",
      "metadata": {
        "colab": {
          "base_uri": "https://localhost:8080/",
          "height": 521
        },
        "id": "LbMTQT6l57p_",
        "outputId": "1b426ef8-828d-4cc9-81d6-1a91fffd4c61"
      },
      "source": [
        "for i in range(8):\n",
        "  forward(100)\n",
        "  left(45)"
      ],
      "execution_count": null,
      "outputs": [
        {
          "output_type": "display_data",
          "data": {
            "text/html": [
              "\n",
              "      <svg width=\"800\" height=\"500\">\n",
              "        <rect width=\"100%\" height=\"100%\" fill=\"black\"/>\n",
              "        <line x1=\"400\" y1=\"250\" x2=\"400.0\" y2=\"150.0\" stroke-linecap=\"round\" style=\"stroke:white;stroke-width:4\"/><line x1=\"400.0\" y1=\"150.0\" x2=\"304.894\" y2=\"119.098\" stroke-linecap=\"round\" style=\"stroke:white;stroke-width:4\"/><line x1=\"304.894\" y1=\"119.098\" x2=\"246.115\" y2=\"200.0\" stroke-linecap=\"round\" style=\"stroke:white;stroke-width:4\"/><line x1=\"246.115\" y1=\"200.0\" x2=\"304.894\" y2=\"280.902\" stroke-linecap=\"round\" style=\"stroke:white;stroke-width:4\"/><line x1=\"304.894\" y1=\"280.902\" x2=\"400.0\" y2=\"250.0\" stroke-linecap=\"round\" style=\"stroke:white;stroke-width:4\"/><line x1=\"400.0\" y1=\"250.0\" x2=\"400.0\" y2=\"150.0\" stroke-linecap=\"round\" style=\"stroke:white;stroke-width:4\"/><line x1=\"400.0\" y1=\"150.0\" x2=\"313.397\" y2=\"100.0\" stroke-linecap=\"round\" style=\"stroke:white;stroke-width:4\"/><line x1=\"313.397\" y1=\"100.0\" x2=\"226.794\" y2=\"150.0\" stroke-linecap=\"round\" style=\"stroke:white;stroke-width:4\"/><line x1=\"226.794\" y1=\"150.0\" x2=\"226.794\" y2=\"250.0\" stroke-linecap=\"round\" style=\"stroke:white;stroke-width:4\"/><line x1=\"226.794\" y1=\"250.0\" x2=\"313.397\" y2=\"300.0\" stroke-linecap=\"round\" style=\"stroke:white;stroke-width:4\"/><line x1=\"313.397\" y1=\"300.0\" x2=\"400.0\" y2=\"250.0\" stroke-linecap=\"round\" style=\"stroke:white;stroke-width:4\"/><line x1=\"400.0\" y1=\"250.0\" x2=\"400.0\" y2=\"150.0\" stroke-linecap=\"round\" style=\"stroke:white;stroke-width:4\"/><line x1=\"400.0\" y1=\"150.0\" x2=\"321.826\" y2=\"87.639\" stroke-linecap=\"round\" style=\"stroke:white;stroke-width:4\"/><line x1=\"321.826\" y1=\"87.639\" x2=\"224.327\" y2=\"109.862\" stroke-linecap=\"round\" style=\"stroke:white;stroke-width:4\"/><line x1=\"224.327\" y1=\"109.862\" x2=\"180.898\" y2=\"199.939\" stroke-linecap=\"round\" style=\"stroke:white;stroke-width:4\"/><line x1=\"180.898\" y1=\"199.939\" x2=\"224.232\" y2=\"290.062\" stroke-linecap=\"round\" style=\"stroke:white;stroke-width:4\"/><line x1=\"224.232\" y1=\"290.062\" x2=\"321.708\" y2=\"312.387\" stroke-linecap=\"round\" style=\"stroke:white;stroke-width:4\"/><line x1=\"321.708\" y1=\"312.387\" x2=\"399.947\" y2=\"250.108\" stroke-linecap=\"round\" style=\"stroke:white;stroke-width:4\"/><line x1=\"399.947\" y1=\"250.108\" x2=\"400.052\" y2=\"150.108\" stroke-linecap=\"round\" style=\"stroke:white;stroke-width:4\"/><line x1=\"400.052\" y1=\"150.108\" x2=\"329.415\" y2=\"79.323\" stroke-linecap=\"round\" style=\"stroke:white;stroke-width:4\"/><line x1=\"329.415\" y1=\"79.323\" x2=\"229.415\" y2=\"79.218\" stroke-linecap=\"round\" style=\"stroke:white;stroke-width:4\"/><line x1=\"229.415\" y1=\"79.218\" x2=\"158.63\" y2=\"149.855\" stroke-linecap=\"round\" style=\"stroke:white;stroke-width:4\"/><line x1=\"158.63\" y1=\"149.855\" x2=\"158.525\" y2=\"249.855\" stroke-linecap=\"round\" style=\"stroke:white;stroke-width:4\"/><line x1=\"158.525\" y1=\"249.855\" x2=\"229.162\" y2=\"320.64\" stroke-linecap=\"round\" style=\"stroke:white;stroke-width:4\"/><line x1=\"229.162\" y1=\"320.64\" x2=\"329.162\" y2=\"320.745\" stroke-linecap=\"round\" style=\"stroke:white;stroke-width:4\"/><line x1=\"329.162\" y1=\"320.745\" x2=\"399.947\" y2=\"250.108\" stroke-linecap=\"round\" style=\"stroke:white;stroke-width:4\"/>\n",
              "        <g visibility=visible transform=\"rotate(360.05999999999995,399.947,250.108) translate(381.947, 232.108)\">\n",
              "<path style=\" stroke:none;fill-rule:evenodd;fill:white;fill-opacity:1;\" d=\"M 18.214844 0.632812 C 16.109375 1.800781 15.011719 4.074219 15.074219 7.132812 L 15.085938 7.652344 L 14.785156 7.496094 C 13.476562 6.824219 11.957031 6.671875 10.40625 7.066406 C 8.46875 7.550781 6.515625 9.15625 4.394531 11.992188 C 3.0625 13.777344 2.679688 14.636719 3.042969 15.027344 L 3.15625 15.152344 L 3.519531 15.152344 C 4.238281 15.152344 4.828125 14.886719 8.1875 13.039062 C 9.386719 12.378906 10.371094 11.839844 10.378906 11.839844 C 10.386719 11.839844 10.355469 11.929688 10.304688 12.035156 C 9.832031 13.09375 9.257812 14.820312 8.96875 16.078125 C 7.914062 20.652344 8.617188 24.53125 11.070312 27.660156 C 11.351562 28.015625 11.363281 27.914062 10.972656 28.382812 C 8.925781 30.84375 7.945312 33.28125 8.238281 35.1875 C 8.289062 35.527344 8.28125 35.523438 8.917969 35.523438 C 10.941406 35.523438 13.074219 34.207031 15.136719 31.6875 C 15.359375 31.417969 15.328125 31.425781 15.5625 31.574219 C 16.292969 32.042969 18.023438 32.964844 18.175781 32.964844 C 18.335938 32.964844 19.941406 32.210938 20.828125 31.71875 C 20.996094 31.625 21.136719 31.554688 21.136719 31.558594 C 21.203125 31.664062 21.898438 32.414062 22.222656 32.730469 C 23.835938 34.300781 25.5625 35.132812 27.582031 35.300781 C 27.90625 35.328125 27.9375 35.308594 28.007812 34.984375 C 28.382812 33.242188 27.625 30.925781 25.863281 28.425781 L 25.542969 27.96875 L 25.699219 27.785156 C 28.945312 23.960938 29.132812 18.699219 26.257812 11.96875 L 26.207031 11.84375 L 27.945312 12.703125 C 31.53125 14.476562 32.316406 14.800781 33.03125 14.800781 C 33.976562 14.800781 33.78125 13.9375 32.472656 12.292969 C 28.519531 7.355469 25.394531 5.925781 21.921875 7.472656 L 21.558594 7.636719 L 21.578125 7.542969 C 21.699219 6.992188 21.761719 5.742188 21.699219 5.164062 C 21.496094 3.296875 20.664062 1.964844 19.003906 0.855469 C 18.480469 0.503906 18.457031 0.5 18.214844 0.632812\"/>\n",
              "</g>\n",
              "      </svg>\n",
              "    "
            ],
            "text/plain": [
              "<IPython.core.display.HTML object>"
            ]
          },
          "metadata": {}
        }
      ]
    },
    {
      "cell_type": "markdown",
      "metadata": {
        "id": "ny8_SRhbzDSN"
      },
      "source": [
        "# 8) Draw n-gon where n comes as input of user"
      ]
    },
    {
      "cell_type": "code",
      "metadata": {
        "colab": {
          "base_uri": "https://localhost:8080/",
          "height": 555
        },
        "id": "XBqCWI4zA1P_",
        "outputId": "8fc2731a-996c-46cd-83c5-5031faf92563"
      },
      "source": [
        "n = int(input(\"Enter the no of sides of the polygon :  \"))\n",
        "l = int(input (\"Enter the lenghth of the sides of the polygon :  \"))\n",
        "\n",
        "for _ in range(n):\n",
        "  forward(l)\n",
        "  left(360/n)"
      ],
      "execution_count": null,
      "outputs": [
        {
          "name": "stdout",
          "output_type": "stream",
          "text": [
            "Enter the no of sides of the polygon :  12\n",
            "Enter the lenghth of the sides of the polygon :  100\n"
          ]
        },
        {
          "output_type": "display_data",
          "data": {
            "text/html": [
              "\n",
              "      <svg width=\"800\" height=\"500\">\n",
              "        <rect width=\"100%\" height=\"100%\" fill=\"black\"/>\n",
              "        <line x1=\"400\" y1=\"250\" x2=\"400.0\" y2=\"150.0\" stroke-linecap=\"round\" style=\"stroke:white;stroke-width:4\"/><line x1=\"400.0\" y1=\"150.0\" x2=\"304.894\" y2=\"119.098\" stroke-linecap=\"round\" style=\"stroke:white;stroke-width:4\"/><line x1=\"304.894\" y1=\"119.098\" x2=\"246.115\" y2=\"200.0\" stroke-linecap=\"round\" style=\"stroke:white;stroke-width:4\"/><line x1=\"246.115\" y1=\"200.0\" x2=\"304.894\" y2=\"280.902\" stroke-linecap=\"round\" style=\"stroke:white;stroke-width:4\"/><line x1=\"304.894\" y1=\"280.902\" x2=\"400.0\" y2=\"250.0\" stroke-linecap=\"round\" style=\"stroke:white;stroke-width:4\"/><line x1=\"400.0\" y1=\"250.0\" x2=\"400.0\" y2=\"150.0\" stroke-linecap=\"round\" style=\"stroke:white;stroke-width:4\"/><line x1=\"400.0\" y1=\"150.0\" x2=\"313.397\" y2=\"100.0\" stroke-linecap=\"round\" style=\"stroke:white;stroke-width:4\"/><line x1=\"313.397\" y1=\"100.0\" x2=\"226.794\" y2=\"150.0\" stroke-linecap=\"round\" style=\"stroke:white;stroke-width:4\"/><line x1=\"226.794\" y1=\"150.0\" x2=\"226.794\" y2=\"250.0\" stroke-linecap=\"round\" style=\"stroke:white;stroke-width:4\"/><line x1=\"226.794\" y1=\"250.0\" x2=\"313.397\" y2=\"300.0\" stroke-linecap=\"round\" style=\"stroke:white;stroke-width:4\"/><line x1=\"313.397\" y1=\"300.0\" x2=\"400.0\" y2=\"250.0\" stroke-linecap=\"round\" style=\"stroke:white;stroke-width:4\"/><line x1=\"400.0\" y1=\"250.0\" x2=\"400.0\" y2=\"150.0\" stroke-linecap=\"round\" style=\"stroke:white;stroke-width:4\"/><line x1=\"400.0\" y1=\"150.0\" x2=\"321.826\" y2=\"87.639\" stroke-linecap=\"round\" style=\"stroke:white;stroke-width:4\"/><line x1=\"321.826\" y1=\"87.639\" x2=\"224.327\" y2=\"109.862\" stroke-linecap=\"round\" style=\"stroke:white;stroke-width:4\"/><line x1=\"224.327\" y1=\"109.862\" x2=\"180.898\" y2=\"199.939\" stroke-linecap=\"round\" style=\"stroke:white;stroke-width:4\"/><line x1=\"180.898\" y1=\"199.939\" x2=\"224.232\" y2=\"290.062\" stroke-linecap=\"round\" style=\"stroke:white;stroke-width:4\"/><line x1=\"224.232\" y1=\"290.062\" x2=\"321.708\" y2=\"312.387\" stroke-linecap=\"round\" style=\"stroke:white;stroke-width:4\"/><line x1=\"321.708\" y1=\"312.387\" x2=\"399.947\" y2=\"250.108\" stroke-linecap=\"round\" style=\"stroke:white;stroke-width:4\"/><line x1=\"399.947\" y1=\"250.108\" x2=\"400.052\" y2=\"150.108\" stroke-linecap=\"round\" style=\"stroke:white;stroke-width:4\"/><line x1=\"400.052\" y1=\"150.108\" x2=\"329.415\" y2=\"79.323\" stroke-linecap=\"round\" style=\"stroke:white;stroke-width:4\"/><line x1=\"329.415\" y1=\"79.323\" x2=\"229.415\" y2=\"79.218\" stroke-linecap=\"round\" style=\"stroke:white;stroke-width:4\"/><line x1=\"229.415\" y1=\"79.218\" x2=\"158.63\" y2=\"149.855\" stroke-linecap=\"round\" style=\"stroke:white;stroke-width:4\"/><line x1=\"158.63\" y1=\"149.855\" x2=\"158.525\" y2=\"249.855\" stroke-linecap=\"round\" style=\"stroke:white;stroke-width:4\"/><line x1=\"158.525\" y1=\"249.855\" x2=\"229.162\" y2=\"320.64\" stroke-linecap=\"round\" style=\"stroke:white;stroke-width:4\"/><line x1=\"229.162\" y1=\"320.64\" x2=\"329.162\" y2=\"320.745\" stroke-linecap=\"round\" style=\"stroke:white;stroke-width:4\"/><line x1=\"329.162\" y1=\"320.745\" x2=\"399.947\" y2=\"250.108\" stroke-linecap=\"round\" style=\"stroke:white;stroke-width:4\"/><line x1=\"399.947\" y1=\"250.108\" x2=\"399.999\" y2=\"200.108\" stroke-linecap=\"round\" style=\"stroke:white;stroke-width:4\"/><line x1=\"399.999\" y1=\"200.108\" x2=\"356.672\" y2=\"225.063\" stroke-linecap=\"round\" style=\"stroke:white;stroke-width:4\"/><line x1=\"356.672\" y1=\"225.063\" x2=\"399.947\" y2=\"250.108\" stroke-linecap=\"round\" style=\"stroke:white;stroke-width:4\"/><line x1=\"399.947\" y1=\"250.108\" x2=\"400.052\" y2=\"150.108\" stroke-linecap=\"round\" style=\"stroke:white;stroke-width:4\"/><line x1=\"400.052\" y1=\"150.108\" x2=\"350.143\" y2=\"63.453\" stroke-linecap=\"round\" style=\"stroke:white;stroke-width:4\"/><line x1=\"350.143\" y1=\"63.453\" x2=\"263.593\" y2=\"13.362\" stroke-linecap=\"round\" style=\"stroke:white;stroke-width:4\"/><line x1=\"263.593\" y1=\"13.362\" x2=\"163.593\" y2=\"13.257\" stroke-linecap=\"round\" style=\"stroke:white;stroke-width:4\"/><line x1=\"163.593\" y1=\"13.257\" x2=\"76.938\" y2=\"63.166\" stroke-linecap=\"round\" style=\"stroke:white;stroke-width:4\"/><line x1=\"76.938\" y1=\"63.166\" x2=\"26.847\" y2=\"149.716\" stroke-linecap=\"round\" style=\"stroke:white;stroke-width:4\"/><line x1=\"26.847\" y1=\"149.716\" x2=\"26.742\" y2=\"249.716\" stroke-linecap=\"round\" style=\"stroke:white;stroke-width:4\"/><line x1=\"26.742\" y1=\"249.716\" x2=\"76.651\" y2=\"336.371\" stroke-linecap=\"round\" style=\"stroke:white;stroke-width:4\"/><line x1=\"76.651\" y1=\"336.371\" x2=\"163.201\" y2=\"386.462\" stroke-linecap=\"round\" style=\"stroke:white;stroke-width:4\"/><line x1=\"163.201\" y1=\"386.462\" x2=\"263.201\" y2=\"386.567\" stroke-linecap=\"round\" style=\"stroke:white;stroke-width:4\"/><line x1=\"263.201\" y1=\"386.567\" x2=\"349.856\" y2=\"336.658\" stroke-linecap=\"round\" style=\"stroke:white;stroke-width:4\"/><line x1=\"349.856\" y1=\"336.658\" x2=\"399.947\" y2=\"250.108\" stroke-linecap=\"round\" style=\"stroke:white;stroke-width:4\"/>\n",
              "        <g visibility=visible transform=\"rotate(360.05999999999995,399.947,250.108) translate(381.947, 232.108)\">\n",
              "<path style=\" stroke:none;fill-rule:evenodd;fill:white;fill-opacity:1;\" d=\"M 18.214844 0.632812 C 16.109375 1.800781 15.011719 4.074219 15.074219 7.132812 L 15.085938 7.652344 L 14.785156 7.496094 C 13.476562 6.824219 11.957031 6.671875 10.40625 7.066406 C 8.46875 7.550781 6.515625 9.15625 4.394531 11.992188 C 3.0625 13.777344 2.679688 14.636719 3.042969 15.027344 L 3.15625 15.152344 L 3.519531 15.152344 C 4.238281 15.152344 4.828125 14.886719 8.1875 13.039062 C 9.386719 12.378906 10.371094 11.839844 10.378906 11.839844 C 10.386719 11.839844 10.355469 11.929688 10.304688 12.035156 C 9.832031 13.09375 9.257812 14.820312 8.96875 16.078125 C 7.914062 20.652344 8.617188 24.53125 11.070312 27.660156 C 11.351562 28.015625 11.363281 27.914062 10.972656 28.382812 C 8.925781 30.84375 7.945312 33.28125 8.238281 35.1875 C 8.289062 35.527344 8.28125 35.523438 8.917969 35.523438 C 10.941406 35.523438 13.074219 34.207031 15.136719 31.6875 C 15.359375 31.417969 15.328125 31.425781 15.5625 31.574219 C 16.292969 32.042969 18.023438 32.964844 18.175781 32.964844 C 18.335938 32.964844 19.941406 32.210938 20.828125 31.71875 C 20.996094 31.625 21.136719 31.554688 21.136719 31.558594 C 21.203125 31.664062 21.898438 32.414062 22.222656 32.730469 C 23.835938 34.300781 25.5625 35.132812 27.582031 35.300781 C 27.90625 35.328125 27.9375 35.308594 28.007812 34.984375 C 28.382812 33.242188 27.625 30.925781 25.863281 28.425781 L 25.542969 27.96875 L 25.699219 27.785156 C 28.945312 23.960938 29.132812 18.699219 26.257812 11.96875 L 26.207031 11.84375 L 27.945312 12.703125 C 31.53125 14.476562 32.316406 14.800781 33.03125 14.800781 C 33.976562 14.800781 33.78125 13.9375 32.472656 12.292969 C 28.519531 7.355469 25.394531 5.925781 21.921875 7.472656 L 21.558594 7.636719 L 21.578125 7.542969 C 21.699219 6.992188 21.761719 5.742188 21.699219 5.164062 C 21.496094 3.296875 20.664062 1.964844 19.003906 0.855469 C 18.480469 0.503906 18.457031 0.5 18.214844 0.632812\"/>\n",
              "</g>\n",
              "      </svg>\n",
              "    "
            ],
            "text/plain": [
              "<IPython.core.display.HTML object>"
            ]
          },
          "metadata": {}
        }
      ]
    },
    {
      "cell_type": "markdown",
      "metadata": {
        "id": "3CCv2f5O95WL"
      },
      "source": [
        "# 9) What sequence will you get if you will call a function \"range\" with 2 parameters?"
      ]
    },
    {
      "cell_type": "code",
      "metadata": {
        "colab": {
          "base_uri": "https://localhost:8080/"
        },
        "id": "-4tk176HlKY_",
        "outputId": "7783011b-f1ef-455a-bc8f-e2eaa8dcd41b"
      },
      "source": [
        "for number in range(2):\n",
        "    print(number)"
      ],
      "execution_count": null,
      "outputs": [
        {
          "output_type": "stream",
          "name": "stdout",
          "text": [
            "0\n",
            "1\n"
          ]
        }
      ]
    },
    {
      "cell_type": "markdown",
      "metadata": {
        "id": "-6PEX3mM_ixW"
      },
      "source": [
        "# 10)How about the same with 3 parameters?"
      ]
    },
    {
      "cell_type": "code",
      "metadata": {
        "colab": {
          "base_uri": "https://localhost:8080/"
        },
        "id": "QENxtE0701mk",
        "outputId": "44b42c6d-6e32-4fc7-a8f1-66a1d1704261"
      },
      "source": [
        "for number in range(3):\n",
        "  print(number)"
      ],
      "execution_count": null,
      "outputs": [
        {
          "output_type": "stream",
          "name": "stdout",
          "text": [
            "0\n",
            "1\n",
            "2\n"
          ]
        }
      ]
    },
    {
      "cell_type": "markdown",
      "metadata": {
        "id": "q4_8_VNmzkwq"
      },
      "source": [
        "# 11) write a program which will ask usr for input of 2 numbers and single string with mathematical operation- '+',  '-', '*' or '/'. Program will then perform the given operation on the numbers and print the result.\n"
      ]
    },
    {
      "cell_type": "code",
      "metadata": {
        "id": "VTzmBAQd0TOS"
      },
      "source": [
        "first number: 123\n",
        "second number: 456\n",
        "operator: +\n",
        "123 + 456 = 579"
      ],
      "execution_count": null,
      "outputs": []
    },
    {
      "cell_type": "code",
      "metadata": {
        "colab": {
          "base_uri": "https://localhost:8080/"
        },
        "id": "tAcK3B54717j",
        "outputId": "b36edb4c-244c-4a1f-9c89-50dbe4d51aed"
      },
      "source": [
        "  x = int(input(\"enter the first number: \"))\n",
        "  y = int(input(\"enter the second number: \"))\n",
        "\n",
        "  sum = x + y\n",
        "\n",
        "  print(\"sum: \", + sum)"
      ],
      "execution_count": null,
      "outputs": [
        {
          "output_type": "stream",
          "name": "stdout",
          "text": [
            "enter the first number: 123\n",
            "enter the second number: 456\n",
            "sum:  579\n"
          ]
        }
      ]
    },
    {
      "cell_type": "markdown",
      "metadata": {
        "id": "nCu8gk9Zds6G"
      },
      "source": [
        "# 12) Write a function which will ask the user 5x times for a number and returns the smallest inserted number."
      ]
    },
    {
      "cell_type": "code",
      "metadata": {
        "colab": {
          "base_uri": "https://localhost:8080/"
        },
        "id": "wSZ9-yhWIGpY",
        "outputId": "ca235a41-544d-478e-db07-243a686f1f63"
      },
      "source": [
        "for i in range(5):\n",
        "  x = int(input(\"Enter the smallest number\"))"
      ],
      "execution_count": null,
      "outputs": [
        {
          "name": "stdout",
          "output_type": "stream",
          "text": [
            "Enter the smallest number1\n",
            "Enter the smallest number2\n",
            "Enter the smallest number3\n",
            "Enter the smallest number4\n",
            "Enter the smallest number5\n"
          ]
        }
      ]
    },
    {
      "cell_type": "code",
      "metadata": {
        "id": "S5UChPlhCrLP"
      },
      "source": [
        ""
      ],
      "execution_count": null,
      "outputs": []
    },
    {
      "cell_type": "markdown",
      "metadata": {
        "id": "u0yi72ZpmJF2"
      },
      "source": [
        "# 13)What is this code doing?\n",
        "for c in 38:\n",
        "    print (c)"
      ]
    },
    {
      "cell_type": "code",
      "metadata": {
        "colab": {
          "base_uri": "https://localhost:8080/"
        },
        "id": "meviSuFzEbJ_",
        "outputId": "8174531a-46b7-4d8e-d2d9-e83e59397037"
      },
      "source": [
        "for c in '38':\n",
        "  print(c)"
      ],
      "execution_count": null,
      "outputs": [
        {
          "output_type": "stream",
          "name": "stdout",
          "text": [
            "3\n",
            "8\n"
          ]
        }
      ]
    },
    {
      "cell_type": "markdown",
      "metadata": {
        "id": "vdLcEVyKpo2Y"
      },
      "source": [
        "# and this?\n",
        "for c in 'hello world':\n",
        "    print(c)"
      ]
    },
    {
      "cell_type": "code",
      "metadata": {
        "colab": {
          "base_uri": "https://localhost:8080/"
        },
        "id": "IVI6IFPiqXci",
        "outputId": "169f49dd-fe3a-475d-f825-592486990042"
      },
      "source": [
        "for c in 'hello world':\n",
        "    print(c)\n"
      ],
      "execution_count": null,
      "outputs": [
        {
          "output_type": "stream",
          "name": "stdout",
          "text": [
            "h\n",
            "e\n",
            "l\n",
            "l\n",
            "o\n",
            " \n",
            "w\n",
            "o\n",
            "r\n",
            "l\n",
            "d\n"
          ]
        }
      ]
    }
  ]
}